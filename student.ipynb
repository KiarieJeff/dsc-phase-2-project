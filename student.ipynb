{
 "cells": [
  {
   "attachments": {},
   "cell_type": "markdown",
   "metadata": {},
   "source": [
    "## Analyzing House Sales in a Northwestern County Using Multiple Linear Regression Modeling"
   ]
  },
  {
   "attachments": {},
   "cell_type": "markdown",
   "metadata": {},
   "source": [
    "![](Data/img1.jpg)"
   ]
  },
  {
   "attachments": {},
   "cell_type": "markdown",
   "metadata": {},
   "source": [
    "Photo by <a href=\"https://unsplash.com/@jimmy_conover?utm_source=unsplash&utm_medium=referral&utm_content=creditCopyText\">Jimmy Conover</a> on <a href=\"https://unsplash.com/s/photos/neighborhood?utm_source=unsplash&utm_medium=referral&utm_content=creditCopyText\">Unsplash</a>\n",
    "  "
   ]
  },
  {
   "attachments": {},
   "cell_type": "markdown",
   "metadata": {},
   "source": [
    "#### Overview"
   ]
  },
  {
   "attachments": {},
   "cell_type": "markdown",
   "metadata": {},
   "source": [
    "In this project, we will apply statistical analytic methods to comprehend the variables affecting home sales in a certain county in the northwest.  Statistical analyses take into account the inherent uncertainty in data. They provide measures of uncertainty, such as p-values, confidence intervals, and standard errors, which allow us to assess the reliability and robustness of our findings.This study intends to investigate the links between numerous independent variables and the dependent variable of home sales by using multiple linear regression modeling.We will be using regression coefficients because they provide specific numerical values that quantify the relationship between the independent variables and the dependent variable.\n",
    "\n",
    "Overall, this analysis aims to advance knowledge and comprehension of the northwest county's housing market by illuminating the variables that have a significant impact on sales and possibly assisting various stakeholders in streamlining their strategies and decision-making procedures."
   ]
  },
  {
   "attachments": {},
   "cell_type": "markdown",
   "metadata": {},
   "source": [
    "#### Business Understanding"
   ]
  },
  {
   "attachments": {},
   "cell_type": "markdown",
   "metadata": {},
   "source": [
    "The primary objective of a real estate company that specializes in helping homeowners buy and sell homes is to offer beneficial services that aid homeowners in maximizing the value of their properties. A significant business problem to address is to be able to advise clients on house modifications and their potential impact on the assessed worth of their homes.\n",
    "\n",
    "In resolving this business issue, it is important to take into account:\n",
    "\n",
    "1.Data Analysis and Research: To identify the renovations that significantly affect the value of homes, the agency must perform extensive data analysis and research. To ascertain which renovations produce the most return on investment, this entails reviewing market trends, historical sales data, and the local real estate market.\n",
    "\n",
    "2.Building a Renovation Value Model: It's important to build a solid renovation value model. This model should take into account a number of variables, including the type of renovation, the associated costs, the state of the local market, and historical information on property value increases following renovations. The model needs to be customized for the particular market that the agency serves.\n",
    "\n",
    "3.Communication and Education: It's crucial to convince homeowners of the benefits of house remodeling. To educate homeowners about the potential advantages of particular renovations and share customer success stories, the firm could create instructional resources like manuals, blog posts, or seminars.\n",
    "\n",
    "4.Continuous Evaluation and Improvement: The agency needs to keep an eye on the market and assess how well its refurbishment recommendations and predicted value increases are working. The remodeling value model will be improved with the help of this feedback loop, which will also guarantee that the agency's services are current and useful.\n",
    "\n",
    "In order to establish itself as a trusted partner for homeowners,the real estate firm must meet the need for renovation guidance and anticipated value increases. Increased client happiness and a solid reputation in the market might result from this."
   ]
  },
  {
   "attachments": {},
   "cell_type": "markdown",
   "metadata": {},
   "source": [
    "#### Data Understanding\n"
   ]
  },
  {
   "attachments": {},
   "cell_type": "markdown",
   "metadata": {},
   "source": [
    "The data is derived from Kaggle which is an online community platform for data scientists and machine learning enthusiasts.You can upload your datasets to Kaggle and download others' datasets as well.In order to gain insights into the dataset that will be used for the analysis,here are some steps to consider:"
   ]
  },
  {
   "attachments": {},
   "cell_type": "markdown",
   "metadata": {},
   "source": [
    "1.Importing the data:\n",
    "Here we will load the dataset with python library pandas.We will also be importing the relevant libraries"
   ]
  },
  {
   "cell_type": "code",
   "execution_count": 1,
   "metadata": {},
   "outputs": [
    {
     "data": {
      "text/html": [
       "<div>\n",
       "<style scoped>\n",
       "    .dataframe tbody tr th:only-of-type {\n",
       "        vertical-align: middle;\n",
       "    }\n",
       "\n",
       "    .dataframe tbody tr th {\n",
       "        vertical-align: top;\n",
       "    }\n",
       "\n",
       "    .dataframe thead th {\n",
       "        text-align: right;\n",
       "    }\n",
       "</style>\n",
       "<table border=\"1\" class=\"dataframe\">\n",
       "  <thead>\n",
       "    <tr style=\"text-align: right;\">\n",
       "      <th></th>\n",
       "      <th>id</th>\n",
       "      <th>date</th>\n",
       "      <th>price</th>\n",
       "      <th>bedrooms</th>\n",
       "      <th>bathrooms</th>\n",
       "      <th>sqft_living</th>\n",
       "      <th>sqft_lot</th>\n",
       "      <th>floors</th>\n",
       "      <th>waterfront</th>\n",
       "      <th>view</th>\n",
       "      <th>...</th>\n",
       "      <th>grade</th>\n",
       "      <th>sqft_above</th>\n",
       "      <th>sqft_basement</th>\n",
       "      <th>yr_built</th>\n",
       "      <th>yr_renovated</th>\n",
       "      <th>zipcode</th>\n",
       "      <th>lat</th>\n",
       "      <th>long</th>\n",
       "      <th>sqft_living15</th>\n",
       "      <th>sqft_lot15</th>\n",
       "    </tr>\n",
       "  </thead>\n",
       "  <tbody>\n",
       "    <tr>\n",
       "      <th>0</th>\n",
       "      <td>7129300520</td>\n",
       "      <td>10/13/2014</td>\n",
       "      <td>221900.0</td>\n",
       "      <td>3</td>\n",
       "      <td>1.00</td>\n",
       "      <td>1180</td>\n",
       "      <td>5650</td>\n",
       "      <td>1.0</td>\n",
       "      <td>NaN</td>\n",
       "      <td>NONE</td>\n",
       "      <td>...</td>\n",
       "      <td>7 Average</td>\n",
       "      <td>1180</td>\n",
       "      <td>0.0</td>\n",
       "      <td>1955</td>\n",
       "      <td>0.0</td>\n",
       "      <td>98178</td>\n",
       "      <td>47.5112</td>\n",
       "      <td>-122.257</td>\n",
       "      <td>1340</td>\n",
       "      <td>5650</td>\n",
       "    </tr>\n",
       "    <tr>\n",
       "      <th>1</th>\n",
       "      <td>6414100192</td>\n",
       "      <td>12/9/2014</td>\n",
       "      <td>538000.0</td>\n",
       "      <td>3</td>\n",
       "      <td>2.25</td>\n",
       "      <td>2570</td>\n",
       "      <td>7242</td>\n",
       "      <td>2.0</td>\n",
       "      <td>NO</td>\n",
       "      <td>NONE</td>\n",
       "      <td>...</td>\n",
       "      <td>7 Average</td>\n",
       "      <td>2170</td>\n",
       "      <td>400.0</td>\n",
       "      <td>1951</td>\n",
       "      <td>1991.0</td>\n",
       "      <td>98125</td>\n",
       "      <td>47.7210</td>\n",
       "      <td>-122.319</td>\n",
       "      <td>1690</td>\n",
       "      <td>7639</td>\n",
       "    </tr>\n",
       "    <tr>\n",
       "      <th>2</th>\n",
       "      <td>5631500400</td>\n",
       "      <td>2/25/2015</td>\n",
       "      <td>180000.0</td>\n",
       "      <td>2</td>\n",
       "      <td>1.00</td>\n",
       "      <td>770</td>\n",
       "      <td>10000</td>\n",
       "      <td>1.0</td>\n",
       "      <td>NO</td>\n",
       "      <td>NONE</td>\n",
       "      <td>...</td>\n",
       "      <td>6 Low Average</td>\n",
       "      <td>770</td>\n",
       "      <td>0.0</td>\n",
       "      <td>1933</td>\n",
       "      <td>NaN</td>\n",
       "      <td>98028</td>\n",
       "      <td>47.7379</td>\n",
       "      <td>-122.233</td>\n",
       "      <td>2720</td>\n",
       "      <td>8062</td>\n",
       "    </tr>\n",
       "    <tr>\n",
       "      <th>3</th>\n",
       "      <td>2487200875</td>\n",
       "      <td>12/9/2014</td>\n",
       "      <td>604000.0</td>\n",
       "      <td>4</td>\n",
       "      <td>3.00</td>\n",
       "      <td>1960</td>\n",
       "      <td>5000</td>\n",
       "      <td>1.0</td>\n",
       "      <td>NO</td>\n",
       "      <td>NONE</td>\n",
       "      <td>...</td>\n",
       "      <td>7 Average</td>\n",
       "      <td>1050</td>\n",
       "      <td>910.0</td>\n",
       "      <td>1965</td>\n",
       "      <td>0.0</td>\n",
       "      <td>98136</td>\n",
       "      <td>47.5208</td>\n",
       "      <td>-122.393</td>\n",
       "      <td>1360</td>\n",
       "      <td>5000</td>\n",
       "    </tr>\n",
       "    <tr>\n",
       "      <th>4</th>\n",
       "      <td>1954400510</td>\n",
       "      <td>2/18/2015</td>\n",
       "      <td>510000.0</td>\n",
       "      <td>3</td>\n",
       "      <td>2.00</td>\n",
       "      <td>1680</td>\n",
       "      <td>8080</td>\n",
       "      <td>1.0</td>\n",
       "      <td>NO</td>\n",
       "      <td>NONE</td>\n",
       "      <td>...</td>\n",
       "      <td>8 Good</td>\n",
       "      <td>1680</td>\n",
       "      <td>0.0</td>\n",
       "      <td>1987</td>\n",
       "      <td>0.0</td>\n",
       "      <td>98074</td>\n",
       "      <td>47.6168</td>\n",
       "      <td>-122.045</td>\n",
       "      <td>1800</td>\n",
       "      <td>7503</td>\n",
       "    </tr>\n",
       "  </tbody>\n",
       "</table>\n",
       "<p>5 rows × 21 columns</p>\n",
       "</div>"
      ],
      "text/plain": [
       "           id        date     price  bedrooms  bathrooms  sqft_living  \\\n",
       "0  7129300520  10/13/2014  221900.0         3       1.00         1180   \n",
       "1  6414100192   12/9/2014  538000.0         3       2.25         2570   \n",
       "2  5631500400   2/25/2015  180000.0         2       1.00          770   \n",
       "3  2487200875   12/9/2014  604000.0         4       3.00         1960   \n",
       "4  1954400510   2/18/2015  510000.0         3       2.00         1680   \n",
       "\n",
       "   sqft_lot  floors waterfront  view  ...          grade sqft_above  \\\n",
       "0      5650     1.0        NaN  NONE  ...      7 Average       1180   \n",
       "1      7242     2.0         NO  NONE  ...      7 Average       2170   \n",
       "2     10000     1.0         NO  NONE  ...  6 Low Average        770   \n",
       "3      5000     1.0         NO  NONE  ...      7 Average       1050   \n",
       "4      8080     1.0         NO  NONE  ...         8 Good       1680   \n",
       "\n",
       "   sqft_basement yr_built  yr_renovated  zipcode      lat     long  \\\n",
       "0            0.0     1955           0.0    98178  47.5112 -122.257   \n",
       "1          400.0     1951        1991.0    98125  47.7210 -122.319   \n",
       "2            0.0     1933           NaN    98028  47.7379 -122.233   \n",
       "3          910.0     1965           0.0    98136  47.5208 -122.393   \n",
       "4            0.0     1987           0.0    98074  47.6168 -122.045   \n",
       "\n",
       "   sqft_living15  sqft_lot15  \n",
       "0           1340        5650  \n",
       "1           1690        7639  \n",
       "2           2720        8062  \n",
       "3           1360        5000  \n",
       "4           1800        7503  \n",
       "\n",
       "[5 rows x 21 columns]"
      ]
     },
     "execution_count": 1,
     "metadata": {},
     "output_type": "execute_result"
    }
   ],
   "source": [
    "import matplotlib.pyplot as plt\n",
    "import numpy as np\n",
    "import pandas as pd\n",
    "import seaborn as sns\n",
    "import statsmodels.api as sm\n",
    "\n",
    "data = pd.read_csv(\"Data/kc_house_data.csv\")\n",
    "data.head()"
   ]
  },
  {
   "attachments": {},
   "cell_type": "markdown",
   "metadata": {},
   "source": [
    "2.Examine the Data Structure: Here we will be reviewing the structure of the dataset by checking the number of rows and columns.We will also be identifying the data types of the variables ie. the columns and see whether they are numeric or categorical and identify the target variable (dependent variable) and predictor variables (independent variables) for the linear regression analysis."
   ]
  },
  {
   "cell_type": "code",
   "execution_count": 2,
   "metadata": {},
   "outputs": [
    {
     "data": {
      "text/plain": [
       "(21597, 21)"
      ]
     },
     "execution_count": 2,
     "metadata": {},
     "output_type": "execute_result"
    }
   ],
   "source": [
    "data.shape"
   ]
  },
  {
   "cell_type": "code",
   "execution_count": 3,
   "metadata": {},
   "outputs": [
    {
     "name": "stdout",
     "output_type": "stream",
     "text": [
      "<class 'pandas.core.frame.DataFrame'>\n",
      "RangeIndex: 21597 entries, 0 to 21596\n",
      "Data columns (total 21 columns):\n",
      " #   Column         Non-Null Count  Dtype  \n",
      "---  ------         --------------  -----  \n",
      " 0   id             21597 non-null  int64  \n",
      " 1   date           21597 non-null  object \n",
      " 2   price          21597 non-null  float64\n",
      " 3   bedrooms       21597 non-null  int64  \n",
      " 4   bathrooms      21597 non-null  float64\n",
      " 5   sqft_living    21597 non-null  int64  \n",
      " 6   sqft_lot       21597 non-null  int64  \n",
      " 7   floors         21597 non-null  float64\n",
      " 8   waterfront     19221 non-null  object \n",
      " 9   view           21534 non-null  object \n",
      " 10  condition      21597 non-null  object \n",
      " 11  grade          21597 non-null  object \n",
      " 12  sqft_above     21597 non-null  int64  \n",
      " 13  sqft_basement  21597 non-null  object \n",
      " 14  yr_built       21597 non-null  int64  \n",
      " 15  yr_renovated   17755 non-null  float64\n",
      " 16  zipcode        21597 non-null  int64  \n",
      " 17  lat            21597 non-null  float64\n",
      " 18  long           21597 non-null  float64\n",
      " 19  sqft_living15  21597 non-null  int64  \n",
      " 20  sqft_lot15     21597 non-null  int64  \n",
      "dtypes: float64(6), int64(9), object(6)\n",
      "memory usage: 3.5+ MB\n"
     ]
    }
   ],
   "source": [
    "data.info()"
   ]
  },
  {
   "attachments": {},
   "cell_type": "markdown",
   "metadata": {},
   "source": [
    "Here we can see some of the categorical data are in form of strings denoted by object Dtype and the numerical are in form of int64 or float64. But not all int64/float64 Dtype are numerical because we have for instance yr_built which is a categorical Dtype but it is expressed in int64/float64.We can also see that sqft_basement is expressed as strings  instead of numeric which we will fix later on.\n",
    "\n",
    "Some of the categorical data we have include: id,date,waterfront,view,condition,grade,yr_built,   yr_renovated,zipcode"
   ]
  },
  {
   "attachments": {},
   "cell_type": "markdown",
   "metadata": {},
   "source": [
    "In choosing the target variable, we will go with price because by modeling and predicting the price, real estate agencies can provide homeowners and buyers with estimates of the fair market value of a property. This information is essential for informed decision-making during property transactions."
   ]
  },
  {
   "attachments": {},
   "cell_type": "markdown",
   "metadata": {},
   "source": [
    "In choosing the dependable/predictor variables we carry out a corrleation test against the target variable to see which dependable variables we can use."
   ]
  },
  {
   "cell_type": "code",
   "execution_count": 4,
   "metadata": {},
   "outputs": [
    {
     "name": "stdout",
     "output_type": "stream",
     "text": [
      "id              -0.016772\n",
      "price            1.000000\n",
      "bedrooms         0.308787\n",
      "bathrooms        0.525906\n",
      "sqft_living      0.701917\n",
      "sqft_lot         0.089876\n",
      "floors           0.256804\n",
      "sqft_above       0.605368\n",
      "yr_built         0.053953\n",
      "yr_renovated     0.129599\n",
      "zipcode         -0.053402\n",
      "lat              0.306692\n",
      "long             0.022036\n",
      "sqft_living15    0.585241\n",
      "sqft_lot15       0.082845\n",
      "Name: price, dtype: float64\n"
     ]
    },
    {
     "name": "stderr",
     "output_type": "stream",
     "text": [
      "C:\\Users\\mjeff\\AppData\\Local\\Temp\\ipykernel_8944\\237414460.py:3: FutureWarning: The default value of numeric_only in DataFrame.corr is deprecated. In a future version, it will default to False. Select only valid columns or specify the value of numeric_only to silence this warning.\n",
      "  correlations = data.corr()[target_column]\n"
     ]
    }
   ],
   "source": [
    "# Calculate the correlation of target column with other columns\n",
    "target_column = 'price'  \n",
    "correlations = data.corr()[target_column]\n",
    "print(correlations)"
   ]
  },
  {
   "attachments": {},
   "cell_type": "markdown",
   "metadata": {},
   "source": [
    "Since correlation is a measure related to regression modeling, we can see that there seems to be some relevant signal here, with some of the variables having medium-to-strong correlations with price.eg sqft_living(Square footage of living space in the home), sqft_above(Square footage of house apart from basement) and sqft_living15(The square footage of interior housing living space for the nearest 15 neighbors)"
   ]
  },
  {
   "attachments": {},
   "cell_type": "markdown",
   "metadata": {},
   "source": [
    "3.Explore the Descriptive Statistics:Here we will display the summary statistics for all variables."
   ]
  },
  {
   "cell_type": "code",
   "execution_count": 5,
   "metadata": {},
   "outputs": [
    {
     "data": {
      "text/html": [
       "<div>\n",
       "<style scoped>\n",
       "    .dataframe tbody tr th:only-of-type {\n",
       "        vertical-align: middle;\n",
       "    }\n",
       "\n",
       "    .dataframe tbody tr th {\n",
       "        vertical-align: top;\n",
       "    }\n",
       "\n",
       "    .dataframe thead th {\n",
       "        text-align: right;\n",
       "    }\n",
       "</style>\n",
       "<table border=\"1\" class=\"dataframe\">\n",
       "  <thead>\n",
       "    <tr style=\"text-align: right;\">\n",
       "      <th></th>\n",
       "      <th>id</th>\n",
       "      <th>price</th>\n",
       "      <th>bedrooms</th>\n",
       "      <th>bathrooms</th>\n",
       "      <th>sqft_living</th>\n",
       "      <th>sqft_lot</th>\n",
       "      <th>floors</th>\n",
       "      <th>sqft_above</th>\n",
       "      <th>yr_built</th>\n",
       "      <th>yr_renovated</th>\n",
       "      <th>zipcode</th>\n",
       "      <th>lat</th>\n",
       "      <th>long</th>\n",
       "      <th>sqft_living15</th>\n",
       "      <th>sqft_lot15</th>\n",
       "    </tr>\n",
       "  </thead>\n",
       "  <tbody>\n",
       "    <tr>\n",
       "      <th>count</th>\n",
       "      <td>2.159700e+04</td>\n",
       "      <td>2.159700e+04</td>\n",
       "      <td>21597.000000</td>\n",
       "      <td>21597.000000</td>\n",
       "      <td>21597.000000</td>\n",
       "      <td>2.159700e+04</td>\n",
       "      <td>21597.000000</td>\n",
       "      <td>21597.000000</td>\n",
       "      <td>21597.000000</td>\n",
       "      <td>17755.000000</td>\n",
       "      <td>21597.000000</td>\n",
       "      <td>21597.000000</td>\n",
       "      <td>21597.000000</td>\n",
       "      <td>21597.000000</td>\n",
       "      <td>21597.000000</td>\n",
       "    </tr>\n",
       "    <tr>\n",
       "      <th>mean</th>\n",
       "      <td>4.580474e+09</td>\n",
       "      <td>5.402966e+05</td>\n",
       "      <td>3.373200</td>\n",
       "      <td>2.115826</td>\n",
       "      <td>2080.321850</td>\n",
       "      <td>1.509941e+04</td>\n",
       "      <td>1.494096</td>\n",
       "      <td>1788.596842</td>\n",
       "      <td>1970.999676</td>\n",
       "      <td>83.636778</td>\n",
       "      <td>98077.951845</td>\n",
       "      <td>47.560093</td>\n",
       "      <td>-122.213982</td>\n",
       "      <td>1986.620318</td>\n",
       "      <td>12758.283512</td>\n",
       "    </tr>\n",
       "    <tr>\n",
       "      <th>std</th>\n",
       "      <td>2.876736e+09</td>\n",
       "      <td>3.673681e+05</td>\n",
       "      <td>0.926299</td>\n",
       "      <td>0.768984</td>\n",
       "      <td>918.106125</td>\n",
       "      <td>4.141264e+04</td>\n",
       "      <td>0.539683</td>\n",
       "      <td>827.759761</td>\n",
       "      <td>29.375234</td>\n",
       "      <td>399.946414</td>\n",
       "      <td>53.513072</td>\n",
       "      <td>0.138552</td>\n",
       "      <td>0.140724</td>\n",
       "      <td>685.230472</td>\n",
       "      <td>27274.441950</td>\n",
       "    </tr>\n",
       "    <tr>\n",
       "      <th>min</th>\n",
       "      <td>1.000102e+06</td>\n",
       "      <td>7.800000e+04</td>\n",
       "      <td>1.000000</td>\n",
       "      <td>0.500000</td>\n",
       "      <td>370.000000</td>\n",
       "      <td>5.200000e+02</td>\n",
       "      <td>1.000000</td>\n",
       "      <td>370.000000</td>\n",
       "      <td>1900.000000</td>\n",
       "      <td>0.000000</td>\n",
       "      <td>98001.000000</td>\n",
       "      <td>47.155900</td>\n",
       "      <td>-122.519000</td>\n",
       "      <td>399.000000</td>\n",
       "      <td>651.000000</td>\n",
       "    </tr>\n",
       "    <tr>\n",
       "      <th>25%</th>\n",
       "      <td>2.123049e+09</td>\n",
       "      <td>3.220000e+05</td>\n",
       "      <td>3.000000</td>\n",
       "      <td>1.750000</td>\n",
       "      <td>1430.000000</td>\n",
       "      <td>5.040000e+03</td>\n",
       "      <td>1.000000</td>\n",
       "      <td>1190.000000</td>\n",
       "      <td>1951.000000</td>\n",
       "      <td>0.000000</td>\n",
       "      <td>98033.000000</td>\n",
       "      <td>47.471100</td>\n",
       "      <td>-122.328000</td>\n",
       "      <td>1490.000000</td>\n",
       "      <td>5100.000000</td>\n",
       "    </tr>\n",
       "    <tr>\n",
       "      <th>50%</th>\n",
       "      <td>3.904930e+09</td>\n",
       "      <td>4.500000e+05</td>\n",
       "      <td>3.000000</td>\n",
       "      <td>2.250000</td>\n",
       "      <td>1910.000000</td>\n",
       "      <td>7.618000e+03</td>\n",
       "      <td>1.500000</td>\n",
       "      <td>1560.000000</td>\n",
       "      <td>1975.000000</td>\n",
       "      <td>0.000000</td>\n",
       "      <td>98065.000000</td>\n",
       "      <td>47.571800</td>\n",
       "      <td>-122.231000</td>\n",
       "      <td>1840.000000</td>\n",
       "      <td>7620.000000</td>\n",
       "    </tr>\n",
       "    <tr>\n",
       "      <th>75%</th>\n",
       "      <td>7.308900e+09</td>\n",
       "      <td>6.450000e+05</td>\n",
       "      <td>4.000000</td>\n",
       "      <td>2.500000</td>\n",
       "      <td>2550.000000</td>\n",
       "      <td>1.068500e+04</td>\n",
       "      <td>2.000000</td>\n",
       "      <td>2210.000000</td>\n",
       "      <td>1997.000000</td>\n",
       "      <td>0.000000</td>\n",
       "      <td>98118.000000</td>\n",
       "      <td>47.678000</td>\n",
       "      <td>-122.125000</td>\n",
       "      <td>2360.000000</td>\n",
       "      <td>10083.000000</td>\n",
       "    </tr>\n",
       "    <tr>\n",
       "      <th>max</th>\n",
       "      <td>9.900000e+09</td>\n",
       "      <td>7.700000e+06</td>\n",
       "      <td>33.000000</td>\n",
       "      <td>8.000000</td>\n",
       "      <td>13540.000000</td>\n",
       "      <td>1.651359e+06</td>\n",
       "      <td>3.500000</td>\n",
       "      <td>9410.000000</td>\n",
       "      <td>2015.000000</td>\n",
       "      <td>2015.000000</td>\n",
       "      <td>98199.000000</td>\n",
       "      <td>47.777600</td>\n",
       "      <td>-121.315000</td>\n",
       "      <td>6210.000000</td>\n",
       "      <td>871200.000000</td>\n",
       "    </tr>\n",
       "  </tbody>\n",
       "</table>\n",
       "</div>"
      ],
      "text/plain": [
       "                 id         price      bedrooms     bathrooms   sqft_living  \\\n",
       "count  2.159700e+04  2.159700e+04  21597.000000  21597.000000  21597.000000   \n",
       "mean   4.580474e+09  5.402966e+05      3.373200      2.115826   2080.321850   \n",
       "std    2.876736e+09  3.673681e+05      0.926299      0.768984    918.106125   \n",
       "min    1.000102e+06  7.800000e+04      1.000000      0.500000    370.000000   \n",
       "25%    2.123049e+09  3.220000e+05      3.000000      1.750000   1430.000000   \n",
       "50%    3.904930e+09  4.500000e+05      3.000000      2.250000   1910.000000   \n",
       "75%    7.308900e+09  6.450000e+05      4.000000      2.500000   2550.000000   \n",
       "max    9.900000e+09  7.700000e+06     33.000000      8.000000  13540.000000   \n",
       "\n",
       "           sqft_lot        floors    sqft_above      yr_built  yr_renovated  \\\n",
       "count  2.159700e+04  21597.000000  21597.000000  21597.000000  17755.000000   \n",
       "mean   1.509941e+04      1.494096   1788.596842   1970.999676     83.636778   \n",
       "std    4.141264e+04      0.539683    827.759761     29.375234    399.946414   \n",
       "min    5.200000e+02      1.000000    370.000000   1900.000000      0.000000   \n",
       "25%    5.040000e+03      1.000000   1190.000000   1951.000000      0.000000   \n",
       "50%    7.618000e+03      1.500000   1560.000000   1975.000000      0.000000   \n",
       "75%    1.068500e+04      2.000000   2210.000000   1997.000000      0.000000   \n",
       "max    1.651359e+06      3.500000   9410.000000   2015.000000   2015.000000   \n",
       "\n",
       "            zipcode           lat          long  sqft_living15     sqft_lot15  \n",
       "count  21597.000000  21597.000000  21597.000000   21597.000000   21597.000000  \n",
       "mean   98077.951845     47.560093   -122.213982    1986.620318   12758.283512  \n",
       "std       53.513072      0.138552      0.140724     685.230472   27274.441950  \n",
       "min    98001.000000     47.155900   -122.519000     399.000000     651.000000  \n",
       "25%    98033.000000     47.471100   -122.328000    1490.000000    5100.000000  \n",
       "50%    98065.000000     47.571800   -122.231000    1840.000000    7620.000000  \n",
       "75%    98118.000000     47.678000   -122.125000    2360.000000   10083.000000  \n",
       "max    98199.000000     47.777600   -121.315000    6210.000000  871200.000000  "
      ]
     },
     "execution_count": 5,
     "metadata": {},
     "output_type": "execute_result"
    }
   ],
   "source": [
    "data.describe()"
   ]
  },
  {
   "attachments": {},
   "cell_type": "markdown",
   "metadata": {},
   "source": [
    "Count: The count of non-null values in each column. It gives you an idea of missing values or potential data quality issues.\n",
    "\n",
    "Mean: The average value of each column. It provides a measure of central tendency and can give you a sense of the typical value.\n",
    "\n",
    "Standard Deviation: The measure of the spread or variability of each column's values around the mean. It indicates how dispersed the data points are.\n",
    "\n",
    "Minimum and Maximum: The smallest and largest values in each column. It gives you the range of the data and helps identify potential outliers.\n",
    "\n",
    "Quartiles (25%, 50%, and 75%): These values divide the data into four equal parts. The 50th percentile (median) represents the middle value, while the 25th and 75th percentiles indicate the lower and upper quartiles, respectively. They provide insights into the data's distribution and skewness."
   ]
  },
  {
   "attachments": {},
   "cell_type": "markdown",
   "metadata": {},
   "source": [
    "#### Data Preparation"
   ]
  },
  {
   "attachments": {},
   "cell_type": "markdown",
   "metadata": {},
   "source": [
    "1.Data Cleaning: Here we start by checking and cleaning the dataset to handle any missing values. This step ensures that your data is in a suitable form for analysis.\n"
   ]
  },
  {
   "cell_type": "code",
   "execution_count": 6,
   "metadata": {},
   "outputs": [
    {
     "name": "stdout",
     "output_type": "stream",
     "text": [
      "<class 'pandas.core.frame.DataFrame'>\n",
      "RangeIndex: 21597 entries, 0 to 21596\n",
      "Data columns (total 21 columns):\n",
      " #   Column         Non-Null Count  Dtype  \n",
      "---  ------         --------------  -----  \n",
      " 0   id             21597 non-null  int64  \n",
      " 1   date           21597 non-null  object \n",
      " 2   price          21597 non-null  float64\n",
      " 3   bedrooms       21597 non-null  int64  \n",
      " 4   bathrooms      21597 non-null  float64\n",
      " 5   sqft_living    21597 non-null  int64  \n",
      " 6   sqft_lot       21597 non-null  int64  \n",
      " 7   floors         21597 non-null  float64\n",
      " 8   waterfront     19221 non-null  object \n",
      " 9   view           21534 non-null  object \n",
      " 10  condition      21597 non-null  object \n",
      " 11  grade          21597 non-null  object \n",
      " 12  sqft_above     21597 non-null  int64  \n",
      " 13  sqft_basement  21597 non-null  object \n",
      " 14  yr_built       21597 non-null  int64  \n",
      " 15  yr_renovated   17755 non-null  float64\n",
      " 16  zipcode        21597 non-null  int64  \n",
      " 17  lat            21597 non-null  float64\n",
      " 18  long           21597 non-null  float64\n",
      " 19  sqft_living15  21597 non-null  int64  \n",
      " 20  sqft_lot15     21597 non-null  int64  \n",
      "dtypes: float64(6), int64(9), object(6)\n",
      "memory usage: 3.5+ MB\n"
     ]
    }
   ],
   "source": [
    "data.info()"
   ]
  },
  {
   "cell_type": "code",
   "execution_count": 7,
   "metadata": {},
   "outputs": [],
   "source": [
    "#replacing null values with suitable replacements\n",
    "data['waterfront'] = data['waterfront'].fillna('UNKNOWN')\n",
    "data['view'] = data['view'].fillna('UNKNOWN')\n",
    "median_year = data['yr_renovated'].median()\n",
    "data['yr_renovated'] = data['yr_renovated'].fillna(median_year)\n"
   ]
  },
  {
   "cell_type": "code",
   "execution_count": 8,
   "metadata": {},
   "outputs": [
    {
     "name": "stdout",
     "output_type": "stream",
     "text": [
      "<class 'pandas.core.frame.DataFrame'>\n",
      "RangeIndex: 21597 entries, 0 to 21596\n",
      "Data columns (total 21 columns):\n",
      " #   Column         Non-Null Count  Dtype  \n",
      "---  ------         --------------  -----  \n",
      " 0   id             21597 non-null  int64  \n",
      " 1   date           21597 non-null  object \n",
      " 2   price          21597 non-null  float64\n",
      " 3   bedrooms       21597 non-null  int64  \n",
      " 4   bathrooms      21597 non-null  float64\n",
      " 5   sqft_living    21597 non-null  int64  \n",
      " 6   sqft_lot       21597 non-null  int64  \n",
      " 7   floors         21597 non-null  float64\n",
      " 8   waterfront     21597 non-null  object \n",
      " 9   view           21597 non-null  object \n",
      " 10  condition      21597 non-null  object \n",
      " 11  grade          21597 non-null  object \n",
      " 12  sqft_above     21597 non-null  int64  \n",
      " 13  sqft_basement  21597 non-null  float64\n",
      " 14  yr_built       21597 non-null  int64  \n",
      " 15  yr_renovated   21597 non-null  float64\n",
      " 16  zipcode        21597 non-null  int64  \n",
      " 17  lat            21597 non-null  float64\n",
      " 18  long           21597 non-null  float64\n",
      " 19  sqft_living15  21597 non-null  int64  \n",
      " 20  sqft_lot15     21597 non-null  int64  \n",
      "dtypes: float64(7), int64(9), object(5)\n",
      "memory usage: 3.5+ MB\n"
     ]
    }
   ],
   "source": [
    "# Convert the column sqft_basement to numeric data type, replacing non-convertible values with NaN\n",
    "data['sqft_basement'] = pd.to_numeric(data['sqft_basement'], errors='coerce')\n",
    "# Calculate the mean of the converted values\n",
    "mean_value = data['sqft_basement'].mean()\n",
    "# Replace NaN values with the mean\n",
    "data['sqft_basement'] = data['sqft_basement'].fillna(mean_value)\n",
    "data.info()"
   ]
  },
  {
   "attachments": {},
   "cell_type": "markdown",
   "metadata": {},
   "source": [
    "2.Feature Selection: Identify the relevant features (independent variables) that may have a significant impact on the target variable (dependent variable)."
   ]
  },
  {
   "cell_type": "code",
   "execution_count": 9,
   "metadata": {},
   "outputs": [
    {
     "name": "stderr",
     "output_type": "stream",
     "text": [
      "C:\\Users\\mjeff\\AppData\\Local\\Temp\\ipykernel_8944\\2971354294.py:1: FutureWarning: The default value of numeric_only in DataFrame.corr is deprecated. In a future version, it will default to False. Select only valid columns or specify the value of numeric_only to silence this warning.\n",
      "  data.corr()['price']\n"
     ]
    },
    {
     "data": {
      "text/plain": [
       "id              -0.016772\n",
       "price            1.000000\n",
       "bedrooms         0.308787\n",
       "bathrooms        0.525906\n",
       "sqft_living      0.701917\n",
       "sqft_lot         0.089876\n",
       "floors           0.256804\n",
       "sqft_above       0.605368\n",
       "sqft_basement    0.322192\n",
       "yr_built         0.053953\n",
       "yr_renovated     0.117855\n",
       "zipcode         -0.053402\n",
       "lat              0.306692\n",
       "long             0.022036\n",
       "sqft_living15    0.585241\n",
       "sqft_lot15       0.082845\n",
       "Name: price, dtype: float64"
      ]
     },
     "execution_count": 9,
     "metadata": {},
     "output_type": "execute_result"
    }
   ],
   "source": [
    "data.corr()['price']"
   ]
  },
  {
   "attachments": {},
   "cell_type": "markdown",
   "metadata": {},
   "source": [
    "Some of the variables exhibiting medium to high correlation include : sqft_living,sqft_above,sqft_living15,bathrooms"
   ]
  },
  {
   "attachments": {},
   "cell_type": "markdown",
   "metadata": {},
   "source": [
    "3.Data transformation and handling Categorical Variables: Here we are converting square foot to square meters because square meters align with the metric system, which is widely used in scientific research, engineering, and many other fields. Using square meters can provide consistency when working with other metric measurements and calculations."
   ]
  },
  {
   "cell_type": "code",
   "execution_count": 10,
   "metadata": {},
   "outputs": [],
   "source": [
    "#transforming from imperial to metric\n",
    "data['sqft_living'] = data['sqft_living']*0.092903\n",
    "data = data.rename(columns={'sqft_living': 'sqm_living'})\n",
    "\n",
    "data['sqft_basement'] = data['sqft_basement']*0.092903\n",
    "data = data.rename(columns={'sqft_basement': 'sqm_basement'})\n",
    "\n",
    "data['sqft_lot'] = data['sqft_lot']*0.092903\n",
    "data = data.rename(columns={'sqft_lot': 'sqm_lot'})\n",
    "\n",
    "data['sqft_above'] = data['sqft_above']*0.092903\n",
    "data = data.rename(columns={'sqft_above': 'sqm_above'})\n",
    "\n",
    "data['sqft_living15'] = data['sqft_living15']*0.092903\n",
    "data = data.rename(columns={'sqft_living15': 'sqm_living15'})\n",
    "\n",
    "data['sqft_lot15'] = data['sqft_lot15']*0.092903\n",
    "data = data.rename(columns={'sqft_lot15': 'sqm_lot15'})\n"
   ]
  },
  {
   "cell_type": "markdown",
   "metadata": {},
   "source": [
    "Here we need to encode or transform categorical variables into numerical values that can be used in the regression model.This involve techniques like one-hot encoding, label encoding, or creating dummy variables."
   ]
  },
  {
   "cell_type": "code",
   "execution_count": 11,
   "metadata": {},
   "outputs": [
    {
     "data": {
      "text/html": [
       "<div>\n",
       "<style scoped>\n",
       "    .dataframe tbody tr th:only-of-type {\n",
       "        vertical-align: middle;\n",
       "    }\n",
       "\n",
       "    .dataframe tbody tr th {\n",
       "        vertical-align: top;\n",
       "    }\n",
       "\n",
       "    .dataframe thead th {\n",
       "        text-align: right;\n",
       "    }\n",
       "</style>\n",
       "<table border=\"1\" class=\"dataframe\">\n",
       "  <thead>\n",
       "    <tr style=\"text-align: right;\">\n",
       "      <th></th>\n",
       "      <th>floors</th>\n",
       "      <th>condition_Fair</th>\n",
       "      <th>condition_Good</th>\n",
       "      <th>condition_Poor</th>\n",
       "      <th>condition_Very Good</th>\n",
       "      <th>grade_11 Excellent</th>\n",
       "      <th>grade_12 Luxury</th>\n",
       "      <th>grade_13 Mansion</th>\n",
       "      <th>grade_3 Poor</th>\n",
       "      <th>grade_4 Low</th>\n",
       "      <th>grade_5 Fair</th>\n",
       "      <th>grade_6 Low Average</th>\n",
       "      <th>grade_7 Average</th>\n",
       "      <th>grade_8 Good</th>\n",
       "      <th>grade_9 Better</th>\n",
       "    </tr>\n",
       "  </thead>\n",
       "  <tbody>\n",
       "    <tr>\n",
       "      <th>0</th>\n",
       "      <td>1.0</td>\n",
       "      <td>0</td>\n",
       "      <td>0</td>\n",
       "      <td>0</td>\n",
       "      <td>0</td>\n",
       "      <td>0</td>\n",
       "      <td>0</td>\n",
       "      <td>0</td>\n",
       "      <td>0</td>\n",
       "      <td>0</td>\n",
       "      <td>0</td>\n",
       "      <td>0</td>\n",
       "      <td>1</td>\n",
       "      <td>0</td>\n",
       "      <td>0</td>\n",
       "    </tr>\n",
       "    <tr>\n",
       "      <th>1</th>\n",
       "      <td>2.0</td>\n",
       "      <td>0</td>\n",
       "      <td>0</td>\n",
       "      <td>0</td>\n",
       "      <td>0</td>\n",
       "      <td>0</td>\n",
       "      <td>0</td>\n",
       "      <td>0</td>\n",
       "      <td>0</td>\n",
       "      <td>0</td>\n",
       "      <td>0</td>\n",
       "      <td>0</td>\n",
       "      <td>1</td>\n",
       "      <td>0</td>\n",
       "      <td>0</td>\n",
       "    </tr>\n",
       "    <tr>\n",
       "      <th>2</th>\n",
       "      <td>1.0</td>\n",
       "      <td>0</td>\n",
       "      <td>0</td>\n",
       "      <td>0</td>\n",
       "      <td>0</td>\n",
       "      <td>0</td>\n",
       "      <td>0</td>\n",
       "      <td>0</td>\n",
       "      <td>0</td>\n",
       "      <td>0</td>\n",
       "      <td>0</td>\n",
       "      <td>1</td>\n",
       "      <td>0</td>\n",
       "      <td>0</td>\n",
       "      <td>0</td>\n",
       "    </tr>\n",
       "    <tr>\n",
       "      <th>3</th>\n",
       "      <td>1.0</td>\n",
       "      <td>0</td>\n",
       "      <td>0</td>\n",
       "      <td>0</td>\n",
       "      <td>1</td>\n",
       "      <td>0</td>\n",
       "      <td>0</td>\n",
       "      <td>0</td>\n",
       "      <td>0</td>\n",
       "      <td>0</td>\n",
       "      <td>0</td>\n",
       "      <td>0</td>\n",
       "      <td>1</td>\n",
       "      <td>0</td>\n",
       "      <td>0</td>\n",
       "    </tr>\n",
       "    <tr>\n",
       "      <th>4</th>\n",
       "      <td>1.0</td>\n",
       "      <td>0</td>\n",
       "      <td>0</td>\n",
       "      <td>0</td>\n",
       "      <td>0</td>\n",
       "      <td>0</td>\n",
       "      <td>0</td>\n",
       "      <td>0</td>\n",
       "      <td>0</td>\n",
       "      <td>0</td>\n",
       "      <td>0</td>\n",
       "      <td>0</td>\n",
       "      <td>0</td>\n",
       "      <td>1</td>\n",
       "      <td>0</td>\n",
       "    </tr>\n",
       "  </tbody>\n",
       "</table>\n",
       "</div>"
      ],
      "text/plain": [
       "   floors  condition_Fair  condition_Good  condition_Poor  \\\n",
       "0     1.0               0               0               0   \n",
       "1     2.0               0               0               0   \n",
       "2     1.0               0               0               0   \n",
       "3     1.0               0               0               0   \n",
       "4     1.0               0               0               0   \n",
       "\n",
       "   condition_Very Good  grade_11 Excellent  grade_12 Luxury  grade_13 Mansion  \\\n",
       "0                    0                   0                0                 0   \n",
       "1                    0                   0                0                 0   \n",
       "2                    0                   0                0                 0   \n",
       "3                    1                   0                0                 0   \n",
       "4                    0                   0                0                 0   \n",
       "\n",
       "   grade_3 Poor  grade_4 Low  grade_5 Fair  grade_6 Low Average  \\\n",
       "0             0            0             0                    0   \n",
       "1             0            0             0                    0   \n",
       "2             0            0             0                    1   \n",
       "3             0            0             0                    0   \n",
       "4             0            0             0                    0   \n",
       "\n",
       "   grade_7 Average  grade_8 Good  grade_9 Better  \n",
       "0                1             0               0  \n",
       "1                1             0               0  \n",
       "2                0             0               0  \n",
       "3                1             0               0  \n",
       "4                0             1               0  "
      ]
     },
     "execution_count": 11,
     "metadata": {},
     "output_type": "execute_result"
    }
   ],
   "source": [
    "#handling categorical variables by creating dummy variables\n",
    "y = data['price']\n",
    "cnd_dmy = data[[\"floors\",\"condition\",\"grade\"]].copy()\n",
    "cnd_dmy = pd.get_dummies(cnd_dmy, columns=[\"condition\",\"grade\"], drop_first=True)\n",
    "cnd_dmy.head() "
   ]
  },
  {
   "attachments": {},
   "cell_type": "markdown",
   "metadata": {},
   "source": [
    "4.Handling Multicollinearity: Check for multicollinearity among the independent variables, which occurs when two or more variables are highly correlated."
   ]
  },
  {
   "cell_type": "code",
   "execution_count": 12,
   "metadata": {},
   "outputs": [
    {
     "data": {
      "text/html": [
       "<div>\n",
       "<style scoped>\n",
       "    .dataframe tbody tr th:only-of-type {\n",
       "        vertical-align: middle;\n",
       "    }\n",
       "\n",
       "    .dataframe tbody tr th {\n",
       "        vertical-align: top;\n",
       "    }\n",
       "\n",
       "    .dataframe thead th {\n",
       "        text-align: right;\n",
       "    }\n",
       "</style>\n",
       "<table border=\"1\" class=\"dataframe\">\n",
       "  <thead>\n",
       "    <tr style=\"text-align: right;\">\n",
       "      <th></th>\n",
       "      <th>sqm_living</th>\n",
       "      <th>sqm_above</th>\n",
       "      <th>floors</th>\n",
       "      <th>sqm_basement</th>\n",
       "      <th>bedrooms</th>\n",
       "      <th>bathrooms</th>\n",
       "      <th>yr_built</th>\n",
       "      <th>yr_renovated</th>\n",
       "      <th>sqm_lot</th>\n",
       "      <th>sqm_living15</th>\n",
       "      <th>sqm_lot15</th>\n",
       "    </tr>\n",
       "  </thead>\n",
       "  <tbody>\n",
       "    <tr>\n",
       "      <th>sqm_living</th>\n",
       "      <td>1.000000</td>\n",
       "      <td>0.876448</td>\n",
       "      <td>0.353953</td>\n",
       "      <td>0.430190</td>\n",
       "      <td>0.578212</td>\n",
       "      <td>0.755758</td>\n",
       "      <td>0.318152</td>\n",
       "      <td>0.051060</td>\n",
       "      <td>0.173453</td>\n",
       "      <td>0.756402</td>\n",
       "      <td>0.184342</td>\n",
       "    </tr>\n",
       "    <tr>\n",
       "      <th>sqm_above</th>\n",
       "      <td>0.876448</td>\n",
       "      <td>1.000000</td>\n",
       "      <td>0.523989</td>\n",
       "      <td>-0.051781</td>\n",
       "      <td>0.479386</td>\n",
       "      <td>0.686668</td>\n",
       "      <td>0.424037</td>\n",
       "      <td>0.020645</td>\n",
       "      <td>0.184139</td>\n",
       "      <td>0.731767</td>\n",
       "      <td>0.195077</td>\n",
       "    </tr>\n",
       "    <tr>\n",
       "      <th>floors</th>\n",
       "      <td>0.353953</td>\n",
       "      <td>0.523989</td>\n",
       "      <td>1.000000</td>\n",
       "      <td>-0.242359</td>\n",
       "      <td>0.177944</td>\n",
       "      <td>0.502582</td>\n",
       "      <td>0.489193</td>\n",
       "      <td>0.003793</td>\n",
       "      <td>-0.004814</td>\n",
       "      <td>0.280102</td>\n",
       "      <td>-0.010722</td>\n",
       "    </tr>\n",
       "    <tr>\n",
       "      <th>sqm_basement</th>\n",
       "      <td>0.430190</td>\n",
       "      <td>-0.051781</td>\n",
       "      <td>-0.242359</td>\n",
       "      <td>1.000000</td>\n",
       "      <td>0.299037</td>\n",
       "      <td>0.279541</td>\n",
       "      <td>-0.131202</td>\n",
       "      <td>0.066204</td>\n",
       "      <td>0.015293</td>\n",
       "      <td>0.199577</td>\n",
       "      <td>0.016420</td>\n",
       "    </tr>\n",
       "    <tr>\n",
       "      <th>bedrooms</th>\n",
       "      <td>0.578212</td>\n",
       "      <td>0.479386</td>\n",
       "      <td>0.177944</td>\n",
       "      <td>0.299037</td>\n",
       "      <td>1.000000</td>\n",
       "      <td>0.514508</td>\n",
       "      <td>0.155670</td>\n",
       "      <td>0.017900</td>\n",
       "      <td>0.032471</td>\n",
       "      <td>0.393406</td>\n",
       "      <td>0.030690</td>\n",
       "    </tr>\n",
       "    <tr>\n",
       "      <th>bathrooms</th>\n",
       "      <td>0.755758</td>\n",
       "      <td>0.686668</td>\n",
       "      <td>0.502582</td>\n",
       "      <td>0.279541</td>\n",
       "      <td>0.514508</td>\n",
       "      <td>1.000000</td>\n",
       "      <td>0.507173</td>\n",
       "      <td>0.047177</td>\n",
       "      <td>0.088373</td>\n",
       "      <td>0.569884</td>\n",
       "      <td>0.088303</td>\n",
       "    </tr>\n",
       "    <tr>\n",
       "      <th>yr_built</th>\n",
       "      <td>0.318152</td>\n",
       "      <td>0.424037</td>\n",
       "      <td>0.489193</td>\n",
       "      <td>-0.131202</td>\n",
       "      <td>0.155670</td>\n",
       "      <td>0.507173</td>\n",
       "      <td>1.000000</td>\n",
       "      <td>-0.202555</td>\n",
       "      <td>0.052946</td>\n",
       "      <td>0.326377</td>\n",
       "      <td>0.070777</td>\n",
       "    </tr>\n",
       "    <tr>\n",
       "      <th>yr_renovated</th>\n",
       "      <td>0.051060</td>\n",
       "      <td>0.020645</td>\n",
       "      <td>0.003793</td>\n",
       "      <td>0.066204</td>\n",
       "      <td>0.017900</td>\n",
       "      <td>0.047177</td>\n",
       "      <td>-0.202555</td>\n",
       "      <td>1.000000</td>\n",
       "      <td>0.004979</td>\n",
       "      <td>0.000683</td>\n",
       "      <td>0.004286</td>\n",
       "    </tr>\n",
       "    <tr>\n",
       "      <th>sqm_lot</th>\n",
       "      <td>0.173453</td>\n",
       "      <td>0.184139</td>\n",
       "      <td>-0.004814</td>\n",
       "      <td>0.015293</td>\n",
       "      <td>0.032471</td>\n",
       "      <td>0.088373</td>\n",
       "      <td>0.052946</td>\n",
       "      <td>0.004979</td>\n",
       "      <td>1.000000</td>\n",
       "      <td>0.144763</td>\n",
       "      <td>0.718204</td>\n",
       "    </tr>\n",
       "    <tr>\n",
       "      <th>sqm_living15</th>\n",
       "      <td>0.756402</td>\n",
       "      <td>0.731767</td>\n",
       "      <td>0.280102</td>\n",
       "      <td>0.199577</td>\n",
       "      <td>0.393406</td>\n",
       "      <td>0.569884</td>\n",
       "      <td>0.326377</td>\n",
       "      <td>0.000683</td>\n",
       "      <td>0.144763</td>\n",
       "      <td>1.000000</td>\n",
       "      <td>0.183515</td>\n",
       "    </tr>\n",
       "    <tr>\n",
       "      <th>sqm_lot15</th>\n",
       "      <td>0.184342</td>\n",
       "      <td>0.195077</td>\n",
       "      <td>-0.010722</td>\n",
       "      <td>0.016420</td>\n",
       "      <td>0.030690</td>\n",
       "      <td>0.088303</td>\n",
       "      <td>0.070777</td>\n",
       "      <td>0.004286</td>\n",
       "      <td>0.718204</td>\n",
       "      <td>0.183515</td>\n",
       "      <td>1.000000</td>\n",
       "    </tr>\n",
       "  </tbody>\n",
       "</table>\n",
       "</div>"
      ],
      "text/plain": [
       "              sqm_living  sqm_above    floors  sqm_basement  bedrooms  \\\n",
       "sqm_living      1.000000   0.876448  0.353953      0.430190  0.578212   \n",
       "sqm_above       0.876448   1.000000  0.523989     -0.051781  0.479386   \n",
       "floors          0.353953   0.523989  1.000000     -0.242359  0.177944   \n",
       "sqm_basement    0.430190  -0.051781 -0.242359      1.000000  0.299037   \n",
       "bedrooms        0.578212   0.479386  0.177944      0.299037  1.000000   \n",
       "bathrooms       0.755758   0.686668  0.502582      0.279541  0.514508   \n",
       "yr_built        0.318152   0.424037  0.489193     -0.131202  0.155670   \n",
       "yr_renovated    0.051060   0.020645  0.003793      0.066204  0.017900   \n",
       "sqm_lot         0.173453   0.184139 -0.004814      0.015293  0.032471   \n",
       "sqm_living15    0.756402   0.731767  0.280102      0.199577  0.393406   \n",
       "sqm_lot15       0.184342   0.195077 -0.010722      0.016420  0.030690   \n",
       "\n",
       "              bathrooms  yr_built  yr_renovated   sqm_lot  sqm_living15  \\\n",
       "sqm_living     0.755758  0.318152      0.051060  0.173453      0.756402   \n",
       "sqm_above      0.686668  0.424037      0.020645  0.184139      0.731767   \n",
       "floors         0.502582  0.489193      0.003793 -0.004814      0.280102   \n",
       "sqm_basement   0.279541 -0.131202      0.066204  0.015293      0.199577   \n",
       "bedrooms       0.514508  0.155670      0.017900  0.032471      0.393406   \n",
       "bathrooms      1.000000  0.507173      0.047177  0.088373      0.569884   \n",
       "yr_built       0.507173  1.000000     -0.202555  0.052946      0.326377   \n",
       "yr_renovated   0.047177 -0.202555      1.000000  0.004979      0.000683   \n",
       "sqm_lot        0.088373  0.052946      0.004979  1.000000      0.144763   \n",
       "sqm_living15   0.569884  0.326377      0.000683  0.144763      1.000000   \n",
       "sqm_lot15      0.088303  0.070777      0.004286  0.718204      0.183515   \n",
       "\n",
       "              sqm_lot15  \n",
       "sqm_living     0.184342  \n",
       "sqm_above      0.195077  \n",
       "floors        -0.010722  \n",
       "sqm_basement   0.016420  \n",
       "bedrooms       0.030690  \n",
       "bathrooms      0.088303  \n",
       "yr_built       0.070777  \n",
       "yr_renovated   0.004286  \n",
       "sqm_lot        0.718204  \n",
       "sqm_living15   0.183515  \n",
       "sqm_lot15      1.000000  "
      ]
     },
     "execution_count": 12,
     "metadata": {},
     "output_type": "execute_result"
    }
   ],
   "source": [
    "y = data['price']\n",
    "df2 = data[['sqm_living','sqm_above','floors','sqm_basement','bedrooms','bathrooms','yr_built','yr_renovated','sqm_lot','sqm_living15','sqm_lot15']]\n",
    "df2.corr()"
   ]
  },
  {
   "attachments": {},
   "cell_type": "markdown",
   "metadata": {},
   "source": [
    "In handling multicollinearity we can have several combinations of the variables but we can not have the following pairs in the same model because they exhibit high correlation with one another.The pair include: sqm_living/bathrooms , sqm_lot/sqm_lot15 , sqm_above/sqm_living , sqm_living15/sqm_living and sqm_living15/sqm_above."
   ]
  },
  {
   "cell_type": "code",
   "execution_count": 13,
   "metadata": {},
   "outputs": [
    {
     "data": {
      "text/html": [
       "<div>\n",
       "<style scoped>\n",
       "    .dataframe tbody tr th:only-of-type {\n",
       "        vertical-align: middle;\n",
       "    }\n",
       "\n",
       "    .dataframe tbody tr th {\n",
       "        vertical-align: top;\n",
       "    }\n",
       "\n",
       "    .dataframe thead th {\n",
       "        text-align: right;\n",
       "    }\n",
       "</style>\n",
       "<table border=\"1\" class=\"dataframe\">\n",
       "  <thead>\n",
       "    <tr style=\"text-align: right;\">\n",
       "      <th></th>\n",
       "      <th>sqm_above</th>\n",
       "      <th>sqm_basement</th>\n",
       "      <th>floors</th>\n",
       "      <th>bathrooms</th>\n",
       "      <th>yr_built</th>\n",
       "      <th>yr_renovated</th>\n",
       "    </tr>\n",
       "  </thead>\n",
       "  <tbody>\n",
       "    <tr>\n",
       "      <th>sqm_above</th>\n",
       "      <td>1.000000</td>\n",
       "      <td>-0.051781</td>\n",
       "      <td>0.523989</td>\n",
       "      <td>0.686668</td>\n",
       "      <td>0.424037</td>\n",
       "      <td>0.020645</td>\n",
       "    </tr>\n",
       "    <tr>\n",
       "      <th>sqm_basement</th>\n",
       "      <td>-0.051781</td>\n",
       "      <td>1.000000</td>\n",
       "      <td>-0.242359</td>\n",
       "      <td>0.279541</td>\n",
       "      <td>-0.131202</td>\n",
       "      <td>0.066204</td>\n",
       "    </tr>\n",
       "    <tr>\n",
       "      <th>floors</th>\n",
       "      <td>0.523989</td>\n",
       "      <td>-0.242359</td>\n",
       "      <td>1.000000</td>\n",
       "      <td>0.502582</td>\n",
       "      <td>0.489193</td>\n",
       "      <td>0.003793</td>\n",
       "    </tr>\n",
       "    <tr>\n",
       "      <th>bathrooms</th>\n",
       "      <td>0.686668</td>\n",
       "      <td>0.279541</td>\n",
       "      <td>0.502582</td>\n",
       "      <td>1.000000</td>\n",
       "      <td>0.507173</td>\n",
       "      <td>0.047177</td>\n",
       "    </tr>\n",
       "    <tr>\n",
       "      <th>yr_built</th>\n",
       "      <td>0.424037</td>\n",
       "      <td>-0.131202</td>\n",
       "      <td>0.489193</td>\n",
       "      <td>0.507173</td>\n",
       "      <td>1.000000</td>\n",
       "      <td>-0.202555</td>\n",
       "    </tr>\n",
       "    <tr>\n",
       "      <th>yr_renovated</th>\n",
       "      <td>0.020645</td>\n",
       "      <td>0.066204</td>\n",
       "      <td>0.003793</td>\n",
       "      <td>0.047177</td>\n",
       "      <td>-0.202555</td>\n",
       "      <td>1.000000</td>\n",
       "    </tr>\n",
       "  </tbody>\n",
       "</table>\n",
       "</div>"
      ],
      "text/plain": [
       "              sqm_above  sqm_basement    floors  bathrooms  yr_built  \\\n",
       "sqm_above      1.000000     -0.051781  0.523989   0.686668  0.424037   \n",
       "sqm_basement  -0.051781      1.000000 -0.242359   0.279541 -0.131202   \n",
       "floors         0.523989     -0.242359  1.000000   0.502582  0.489193   \n",
       "bathrooms      0.686668      0.279541  0.502582   1.000000  0.507173   \n",
       "yr_built       0.424037     -0.131202  0.489193   0.507173  1.000000   \n",
       "yr_renovated   0.020645      0.066204  0.003793   0.047177 -0.202555   \n",
       "\n",
       "              yr_renovated  \n",
       "sqm_above         0.020645  \n",
       "sqm_basement      0.066204  \n",
       "floors            0.003793  \n",
       "bathrooms         0.047177  \n",
       "yr_built         -0.202555  \n",
       "yr_renovated      1.000000  "
      ]
     },
     "execution_count": 13,
     "metadata": {},
     "output_type": "execute_result"
    }
   ],
   "source": [
    "#creating a dataframe that holds the independent variable matrix\n",
    "df4 = data[['sqm_above','sqm_basement','floors','bathrooms','yr_built','yr_renovated']]\n",
    "df4.corr()"
   ]
  },
  {
   "attachments": {},
   "cell_type": "markdown",
   "metadata": {},
   "source": [
    "#### Modeling"
   ]
  },
  {
   "attachments": {},
   "cell_type": "markdown",
   "metadata": {},
   "source": [
    "First we will start with a simple linear regression model."
   ]
  },
  {
   "cell_type": "code",
   "execution_count": 14,
   "metadata": {},
   "outputs": [],
   "source": [
    "#baseline model\n",
    "X_baseline = data[['sqm_above']]\n",
    "baseline_model = sm.OLS(y, sm.add_constant(X_baseline))\n",
    "baseline_results = baseline_model.fit()"
   ]
  },
  {
   "attachments": {},
   "cell_type": "markdown",
   "metadata": {},
   "source": [
    "We can thereafter add another independent variable."
   ]
  },
  {
   "cell_type": "code",
   "execution_count": 15,
   "metadata": {},
   "outputs": [],
   "source": [
    "#iterated model\n",
    "X_multi1 = data[['sqm_above','bedrooms']]\n",
    "X_multi1_model = sm.OLS(y, sm.add_constant(X_multi1))\n",
    "X_multi1_results = X_multi1_model.fit()"
   ]
  },
  {
   "cell_type": "code",
   "execution_count": 16,
   "metadata": {},
   "outputs": [],
   "source": [
    "#final model\n",
    "#df4 = data[['sqm_above','sqm_basement','floors','bathrooms','yr_built','yr_renovated']]\n",
    "X_multi2_model = sm.OLS(y, sm.add_constant(df4))\n",
    "X_multi2_results = X_multi2_model.fit()"
   ]
  },
  {
   "cell_type": "code",
   "execution_count": 17,
   "metadata": {},
   "outputs": [
    {
     "data": {
      "text/html": [
       "<div>\n",
       "<style scoped>\n",
       "    .dataframe tbody tr th:only-of-type {\n",
       "        vertical-align: middle;\n",
       "    }\n",
       "\n",
       "    .dataframe tbody tr th {\n",
       "        vertical-align: top;\n",
       "    }\n",
       "\n",
       "    .dataframe thead th {\n",
       "        text-align: right;\n",
       "    }\n",
       "</style>\n",
       "<table border=\"1\" class=\"dataframe\">\n",
       "  <thead>\n",
       "    <tr style=\"text-align: right;\">\n",
       "      <th></th>\n",
       "      <th>floors</th>\n",
       "      <th>condition_Fair</th>\n",
       "      <th>condition_Good</th>\n",
       "      <th>condition_Poor</th>\n",
       "      <th>condition_Very Good</th>\n",
       "      <th>grade_11 Excellent</th>\n",
       "      <th>grade_12 Luxury</th>\n",
       "      <th>grade_13 Mansion</th>\n",
       "      <th>grade_3 Poor</th>\n",
       "      <th>grade_4 Low</th>\n",
       "      <th>grade_5 Fair</th>\n",
       "      <th>grade_6 Low Average</th>\n",
       "      <th>grade_7 Average</th>\n",
       "      <th>grade_8 Good</th>\n",
       "      <th>grade_9 Better</th>\n",
       "    </tr>\n",
       "  </thead>\n",
       "  <tbody>\n",
       "    <tr>\n",
       "      <th>0</th>\n",
       "      <td>1.0</td>\n",
       "      <td>0</td>\n",
       "      <td>0</td>\n",
       "      <td>0</td>\n",
       "      <td>0</td>\n",
       "      <td>0</td>\n",
       "      <td>0</td>\n",
       "      <td>0</td>\n",
       "      <td>0</td>\n",
       "      <td>0</td>\n",
       "      <td>0</td>\n",
       "      <td>0</td>\n",
       "      <td>1</td>\n",
       "      <td>0</td>\n",
       "      <td>0</td>\n",
       "    </tr>\n",
       "    <tr>\n",
       "      <th>1</th>\n",
       "      <td>2.0</td>\n",
       "      <td>0</td>\n",
       "      <td>0</td>\n",
       "      <td>0</td>\n",
       "      <td>0</td>\n",
       "      <td>0</td>\n",
       "      <td>0</td>\n",
       "      <td>0</td>\n",
       "      <td>0</td>\n",
       "      <td>0</td>\n",
       "      <td>0</td>\n",
       "      <td>0</td>\n",
       "      <td>1</td>\n",
       "      <td>0</td>\n",
       "      <td>0</td>\n",
       "    </tr>\n",
       "    <tr>\n",
       "      <th>2</th>\n",
       "      <td>1.0</td>\n",
       "      <td>0</td>\n",
       "      <td>0</td>\n",
       "      <td>0</td>\n",
       "      <td>0</td>\n",
       "      <td>0</td>\n",
       "      <td>0</td>\n",
       "      <td>0</td>\n",
       "      <td>0</td>\n",
       "      <td>0</td>\n",
       "      <td>0</td>\n",
       "      <td>1</td>\n",
       "      <td>0</td>\n",
       "      <td>0</td>\n",
       "      <td>0</td>\n",
       "    </tr>\n",
       "    <tr>\n",
       "      <th>3</th>\n",
       "      <td>1.0</td>\n",
       "      <td>0</td>\n",
       "      <td>0</td>\n",
       "      <td>0</td>\n",
       "      <td>1</td>\n",
       "      <td>0</td>\n",
       "      <td>0</td>\n",
       "      <td>0</td>\n",
       "      <td>0</td>\n",
       "      <td>0</td>\n",
       "      <td>0</td>\n",
       "      <td>0</td>\n",
       "      <td>1</td>\n",
       "      <td>0</td>\n",
       "      <td>0</td>\n",
       "    </tr>\n",
       "    <tr>\n",
       "      <th>4</th>\n",
       "      <td>1.0</td>\n",
       "      <td>0</td>\n",
       "      <td>0</td>\n",
       "      <td>0</td>\n",
       "      <td>0</td>\n",
       "      <td>0</td>\n",
       "      <td>0</td>\n",
       "      <td>0</td>\n",
       "      <td>0</td>\n",
       "      <td>0</td>\n",
       "      <td>0</td>\n",
       "      <td>0</td>\n",
       "      <td>0</td>\n",
       "      <td>1</td>\n",
       "      <td>0</td>\n",
       "    </tr>\n",
       "  </tbody>\n",
       "</table>\n",
       "</div>"
      ],
      "text/plain": [
       "   floors  condition_Fair  condition_Good  condition_Poor  \\\n",
       "0     1.0               0               0               0   \n",
       "1     2.0               0               0               0   \n",
       "2     1.0               0               0               0   \n",
       "3     1.0               0               0               0   \n",
       "4     1.0               0               0               0   \n",
       "\n",
       "   condition_Very Good  grade_11 Excellent  grade_12 Luxury  grade_13 Mansion  \\\n",
       "0                    0                   0                0                 0   \n",
       "1                    0                   0                0                 0   \n",
       "2                    0                   0                0                 0   \n",
       "3                    1                   0                0                 0   \n",
       "4                    0                   0                0                 0   \n",
       "\n",
       "   grade_3 Poor  grade_4 Low  grade_5 Fair  grade_6 Low Average  \\\n",
       "0             0            0             0                    0   \n",
       "1             0            0             0                    0   \n",
       "2             0            0             0                    1   \n",
       "3             0            0             0                    0   \n",
       "4             0            0             0                    0   \n",
       "\n",
       "   grade_7 Average  grade_8 Good  grade_9 Better  \n",
       "0                1             0               0  \n",
       "1                1             0               0  \n",
       "2                0             0               0  \n",
       "3                1             0               0  \n",
       "4                0             1               0  "
      ]
     },
     "execution_count": 17,
     "metadata": {},
     "output_type": "execute_result"
    }
   ],
   "source": [
    "cnd_dmy.head()"
   ]
  },
  {
   "cell_type": "code",
   "execution_count": 18,
   "metadata": {},
   "outputs": [],
   "source": [
    "#additional model where we are modeling with dummy variables created \n",
    "#we are using dummy variables created from conditions in cnd_dmy\n",
    "\n",
    "df6 = cnd_dmy[['floors','condition_Poor','condition_Fair','condition_Very Good']]\n",
    "multi6_model = sm.OLS(y, sm.add_constant(cnd_dmy))\n",
    "multi6_results = multi6_model.fit()"
   ]
  },
  {
   "attachments": {},
   "cell_type": "markdown",
   "metadata": {},
   "source": [
    "#### Regression results"
   ]
  },
  {
   "cell_type": "code",
   "execution_count": 19,
   "metadata": {},
   "outputs": [
    {
     "name": "stdout",
     "output_type": "stream",
     "text": [
      "                            OLS Regression Results                            \n",
      "==============================================================================\n",
      "Dep. Variable:                  price   R-squared:                       0.366\n",
      "Model:                            OLS   Adj. R-squared:                  0.366\n",
      "Method:                 Least Squares   F-statistic:                 1.249e+04\n",
      "Date:                Sun, 09 Jul 2023   Prob (F-statistic):               0.00\n",
      "Time:                        17:55:48   Log-Likelihood:            -3.0246e+05\n",
      "No. Observations:               21597   AIC:                         6.049e+05\n",
      "Df Residuals:                   21595   BIC:                         6.049e+05\n",
      "Df Model:                           1                                         \n",
      "Covariance Type:            nonrobust                                         \n",
      "==============================================================================\n",
      "                 coef    std err          t      P>|t|      [0.025      0.975]\n",
      "------------------------------------------------------------------------------\n",
      "const       5.976e+04   4737.581     12.613      0.000    5.05e+04     6.9e+04\n",
      "sqm_above   2891.9239     25.875    111.767      0.000    2841.208    2942.640\n",
      "==============================================================================\n",
      "Omnibus:                    16492.245   Durbin-Watson:                   1.987\n",
      "Prob(Omnibus):                  0.000   Jarque-Bera (JB):           728366.432\n",
      "Skew:                           3.265   Prob(JB):                         0.00\n",
      "Kurtosis:                      30.691   Cond. No.                         436.\n",
      "==============================================================================\n",
      "\n",
      "Notes:\n",
      "[1] Standard Errors assume that the covariance matrix of the errors is correctly specified.\n"
     ]
    }
   ],
   "source": [
    "print(baseline_results.summary())"
   ]
  },
  {
   "attachments": {},
   "cell_type": "markdown",
   "metadata": {},
   "source": [
    "The baseline model built was:\n",
    "\n",
    "price = 59,760 + 2891.92sqm_above \n",
    "\n",
    "The model is statistically significant overall, with an F-statistic p-value below 0.05\n",
    "\n",
    "The model explains about 36.6% of the variance in price\n",
    "\n",
    "The model coefficients (const, sqm_above) are all statistically significant, with t-statistic p-values below 0.05\n",
    "\n",
    "For each increase of meter squared in house apart from basement, we see an associated increase in price of about $2891.92\n"
   ]
  },
  {
   "cell_type": "code",
   "execution_count": 20,
   "metadata": {},
   "outputs": [
    {
     "data": {
      "image/png": "[encoded data removed]",
      "text/plain": [
       "<Figure size 1500x500 with 2 Axes>"
      ]
     },
     "metadata": {},
     "output_type": "display_data"
    }
   ],
   "source": [
    "fig, (ax, ax2) = plt.subplots(1,2, figsize=(15, 5))\n",
    "data.plot.scatter(x=\"sqm_above\", y=\"price\", label=\"Data points\", ax=ax)\n",
    "sm.graphics.abline_plot(model_results=baseline_results, label=\"Regression line\", ax=ax, color=\"black\")\n",
    "ax.set_title('Regression line')\n",
    "ax.legend()\n",
    "\n",
    "ax2.scatter(data[\"price\"], baseline_results.resid)\n",
    "ax2.axhline(y=0, color=\"black\")\n",
    "ax2.set_xlabel(\"sqm_above\")\n",
    "ax2.set_ylabel(\"residuals\")\n",
    "ax2.set_title('Residuals')\n",
    "\n",
    "plt.tight_layout()\n",
    "\n",
    "plt.show()"
   ]
  },
  {
   "cell_type": "code",
   "execution_count": 21,
   "metadata": {},
   "outputs": [
    {
     "name": "stdout",
     "output_type": "stream",
     "text": [
      "                            OLS Regression Results                            \n",
      "==============================================================================\n",
      "Dep. Variable:                  price   R-squared:                       0.367\n",
      "Model:                            OLS   Adj. R-squared:                  0.367\n",
      "Method:                 Least Squares   F-statistic:                     6258.\n",
      "Date:                Sun, 09 Jul 2023   Prob (F-statistic):               0.00\n",
      "Time:                        17:55:53   Log-Likelihood:            -3.0245e+05\n",
      "No. Observations:               21597   AIC:                         6.049e+05\n",
      "Df Residuals:                   21594   BIC:                         6.049e+05\n",
      "Df Model:                           2                                         \n",
      "Covariance Type:            nonrobust                                         \n",
      "==============================================================================\n",
      "                 coef    std err          t      P>|t|      [0.025      0.975]\n",
      "------------------------------------------------------------------------------\n",
      "const       3.666e+04   7570.432      4.843      0.000    2.18e+04    5.15e+04\n",
      "sqm_above   2836.6708     29.474     96.245      0.000    2778.900    2894.441\n",
      "bedrooms    9568.7282   2446.893      3.911      0.000    4772.637    1.44e+04\n",
      "==============================================================================\n",
      "Omnibus:                    16531.154   Durbin-Watson:                   1.987\n",
      "Prob(Omnibus):                  0.000   Jarque-Bera (JB):           738515.720\n",
      "Skew:                           3.273   Prob(JB):                         0.00\n",
      "Kurtosis:                      30.890   Cond. No.                         720.\n",
      "==============================================================================\n",
      "\n",
      "Notes:\n",
      "[1] Standard Errors assume that the covariance matrix of the errors is correctly specified.\n"
     ]
    }
   ],
   "source": [
    "print(X_multi1_results.summary())"
   ]
  },
  {
   "attachments": {},
   "cell_type": "markdown",
   "metadata": {},
   "source": [
    "The iterated model built was:\n",
    "\n",
    "price = 36,660 + 2836.67sqm_above + 9568.73bedrooms\n",
    "\n",
    "The model is statistically significant overall, with an F-statistic p-value below 0.05\n",
    "\n",
    "The model explains about 36.7% of the variance in price\n",
    "\n",
    "The model coefficients (const, sqm_above, and bedrooms) are all statistically significant, with t-statistic p-values well below 0.05\n",
    "\n",
    "The intercept term is 36,660. This represents the estimated price when all sqm_above and bedrooms are zero.\n",
    "\n",
    "For each increase of meter squared in house apart from basement, we see an associated increase in price of about $2836.67\n",
    "\n",
    "For each increase of bedrooms, we see an associated increase in price of about $9568.73"
   ]
  },
  {
   "cell_type": "code",
   "execution_count": 22,
   "metadata": {},
   "outputs": [
    {
     "name": "stdout",
     "output_type": "stream",
     "text": [
      "\n",
      "Baseline model adjusted R-Squared: 0.3664410103983813\n",
      "Iterated model adjusted R-Squared: 0.3668600496945008\n",
      "percent change in the adjusted R-Squared: 0.11%\n",
      "\n"
     ]
    }
   ],
   "source": [
    "chng = (X_multi1_results.rsquared_adj - baseline_results.rsquared_adj)/baseline_results.rsquared_adj\n",
    "prcnt_chng = chng * 100\n",
    "\n",
    "print(f\"\"\"\n",
    "Baseline model adjusted R-Squared: {baseline_results.rsquared_adj}\n",
    "Iterated model adjusted R-Squared: {X_multi1_results.rsquared_adj}\n",
    "percent change in the adjusted R-Squared: {round(prcnt_chng,2)}%\n",
    "\"\"\")"
   ]
  },
  {
   "attachments": {},
   "cell_type": "markdown",
   "metadata": {},
   "source": [
    "When we evaluate the performance of the current model by examining goodness-of-fit measures (e.g., R-squared, adjusted R-squared), we can see there is still room for improvement because the adjusted R-squared is quite small but in our case we have just increased the independent variable by one.In the next model we have added other variables."
   ]
  },
  {
   "cell_type": "code",
   "execution_count": 23,
   "metadata": {},
   "outputs": [
    {
     "name": "stdout",
     "output_type": "stream",
     "text": [
      "                            OLS Regression Results                            \n",
      "==============================================================================\n",
      "Dep. Variable:                  price   R-squared:                       0.537\n",
      "Model:                            OLS   Adj. R-squared:                  0.537\n",
      "Method:                 Least Squares   F-statistic:                     4167.\n",
      "Date:                Sun, 09 Jul 2023   Prob (F-statistic):               0.00\n",
      "Time:                        17:55:53   Log-Likelihood:            -2.9908e+05\n",
      "No. Observations:               21597   AIC:                         5.982e+05\n",
      "Df Residuals:                   21590   BIC:                         5.982e+05\n",
      "Df Model:                           6                                         \n",
      "Covariance Type:            nonrobust                                         \n",
      "================================================================================\n",
      "                   coef    std err          t      P>|t|      [0.025      0.975]\n",
      "--------------------------------------------------------------------------------\n",
      "const         6.006e+06   1.45e+05     41.476      0.000    5.72e+06    6.29e+06\n",
      "sqm_above     2934.6969     32.862     89.304      0.000    2870.285    2999.108\n",
      "sqm_basement  2799.7203     52.066     53.772      0.000    2697.667    2901.774\n",
      "floors        5.551e+04   4245.255     13.076      0.000    4.72e+04    6.38e+04\n",
      "bathrooms     4.923e+04   3929.293     12.528      0.000    4.15e+04    5.69e+04\n",
      "yr_built     -3154.9732     75.305    -41.896      0.000   -3302.576   -3007.370\n",
      "yr_renovated    28.6402      4.862      5.891      0.000      19.111      38.170\n",
      "==============================================================================\n",
      "Omnibus:                    14775.320   Durbin-Watson:                   1.981\n",
      "Prob(Omnibus):                  0.000   Jarque-Bera (JB):           578036.765\n",
      "Skew:                           2.789   Prob(JB):                         0.00\n",
      "Kurtosis:                      27.723   Cond. No.                     1.68e+05\n",
      "==============================================================================\n",
      "\n",
      "Notes:\n",
      "[1] Standard Errors assume that the covariance matrix of the errors is correctly specified.\n",
      "[2] The condition number is large, 1.68e+05. This might indicate that there are\n",
      "strong multicollinearity or other numerical problems.\n"
     ]
    }
   ],
   "source": [
    "print(X_multi2_results.summary())"
   ]
  },
  {
   "attachments": {},
   "cell_type": "markdown",
   "metadata": {},
   "source": [
    "The Final model built was:\n",
    "\n",
    "price = 6,006,000 + 2934.7sqm_above + 2799.72sqm_basement + 55,510floors + 49,230bathrooms\n",
    "        - 3154.97yr_built + 28.64yr_renovated\n",
    "\n",
    "The model is statistically significant overall, with an F-statistic p-value below 0.05\n",
    "\n",
    "The model explains about 54% of the variance in price\n",
    "\n",
    "The model coefficients (const, sqm_above, and bedrooms) are all statistically significant, with t-statistic p-values below 0.05\n",
    "\n",
    "The intercept term is 6,006,000. This represents the estimated price when all the independent variables are zero.\n",
    "\n",
    "The coefficient for \"sqm_above\" is 2934.7. It suggests that, on average, for every square meter increase in above ground living area, the price is expected to increase by $2934.7, holding other variables constant.\n",
    "\n",
    "The coefficient for \"sqm_basement\" is 2799.72. It indicates that, on average, for every square meter increase in basement area, the price is expected to increase by $2799.72 , holding other variables constant.\n",
    "\n",
    "The coefficient for \"floors\" is 55,510. This implies that, on average, each additional floor in the house is associated with an increase of $55,510 in price, assuming other variables remain constant.\n",
    "\n",
    "The coefficient for \"bathrooms\" is 49,230. It suggests that, on average, for each additional bathroom in the house, the price is expected to increase by $49,230 , holding other variables constant.\n",
    "\n",
    "The coefficient for \"yr_built\" is -3154.97. It indicates that, on average, for every year increase in the age of the house, the price is expected to decrease by $3154.97 , holding other variables constant.\n",
    "\n",
    "The coefficient for \"yr_renovated\" is 28.64. It suggests that, on average, for every year increase in the age of the renovation, the price is expected to increase by $28.64 , holding other variables constant."
   ]
  },
  {
   "cell_type": "markdown",
   "metadata": {},
   "source": [
    "To help analyse the model further we can plot partial regression plot.It is used to visualize the relationship between a predictor variable and the response variable in the context of multiple linear regression. It helps assess the individual contribution of a predictor while controlling for the effects of other variables in the model."
   ]
  },
  {
   "cell_type": "code",
   "execution_count": 24,
   "metadata": {},
   "outputs": [
    {
     "name": "stdout",
     "output_type": "stream",
     "text": [
      "eval_env: 1\n"
     ]
    },
    {
     "name": "stdout",
     "output_type": "stream",
     "text": [
      "eval_env: 1\n",
      "eval_env: 1\n",
      "eval_env: 1\n",
      "eval_env: 1\n",
      "eval_env: 1\n"
     ]
    },
    {
     "data": {
      "image/png": "[encoded data removed]",
      "text/plain": [
       "<Figure size 1500x800 with 6 Axes>"
      ]
     },
     "metadata": {},
     "output_type": "display_data"
    }
   ],
   "source": [
    "fig = plt.figure(figsize=(15,8))\n",
    "sm.graphics.plot_partregress_grid(\n",
    "    X_multi2_results,\n",
    "    exog_idx=list(df4.columns.values),\n",
    "    grid=(3,3),\n",
    "    fig=fig)\n",
    "plt.show()"
   ]
  },
  {
   "cell_type": "markdown",
   "metadata": {},
   "source": [
    "With the above visualization we can see variations in the slope. A positive slope suggests a positive relationship between the predictor variable and the response variable. As the predictor variable increases, the response variable tends to increase as well. The steeper the slope, the stronger the relationship.eg sqm_above,sqm_basement\n",
    "\n",
    "A negative slope indicates an inverse relationship between the predictor variable and the response variable. As the predictor variable increases, the response variable tends to decrease. Similarly, the steeper the negative slope, the stronger the inverse relationship.eg yr_built\n",
    "\n",
    "A slope of zero implies that there is no linear relationship between the predictor and response variables. In other words, changes in the predictor variable do not result in any changes in the response variable.eg yr_renovated"
   ]
  },
  {
   "cell_type": "code",
   "execution_count": 25,
   "metadata": {},
   "outputs": [
    {
     "name": "stdout",
     "output_type": "stream",
     "text": [
      "\n",
      "Baseline model adjusted R-Squared: 0.3664410103983813\n",
      "Final model adjusted R-Squared: 0.5365020160723728\n",
      "percent change in the adjusted R-Squared: 46.41%\n",
      "\n"
     ]
    }
   ],
   "source": [
    "chng2 = (X_multi2_results.rsquared_adj - baseline_results.rsquared_adj)/baseline_results.rsquared_adj\n",
    "prcnt_chng2 = chng2 * 100\n",
    "\n",
    "print(f\"\"\"\n",
    "Baseline model adjusted R-Squared: {baseline_results.rsquared_adj}\n",
    "Final model adjusted R-Squared: {X_multi2_results.rsquared_adj}\n",
    "percent change in the adjusted R-Squared: {round(prcnt_chng2,2)}%\n",
    "\"\"\")"
   ]
  },
  {
   "attachments": {},
   "cell_type": "markdown",
   "metadata": {},
   "source": [
    "From the above cell we can see that adding other variables improves the model significantly.We can also analyse a model involving a dummy variable we created earlier which focused on condition of the house."
   ]
  },
  {
   "cell_type": "code",
   "execution_count": 26,
   "metadata": {},
   "outputs": [
    {
     "name": "stdout",
     "output_type": "stream",
     "text": [
      "                            OLS Regression Results                            \n",
      "==============================================================================\n",
      "Dep. Variable:                  price   R-squared:                       0.538\n",
      "Model:                            OLS   Adj. R-squared:                  0.538\n",
      "Method:                 Least Squares   F-statistic:                     1678.\n",
      "Date:                Sun, 09 Jul 2023   Prob (F-statistic):               0.00\n",
      "Time:                        17:55:59   Log-Likelihood:            -2.9904e+05\n",
      "No. Observations:               21597   AIC:                         5.981e+05\n",
      "Df Residuals:                   21581   BIC:                         5.982e+05\n",
      "Df Model:                          15                                         \n",
      "Covariance Type:            nonrobust                                         \n",
      "=======================================================================================\n",
      "                          coef    std err          t      P>|t|      [0.025      0.975]\n",
      "---------------------------------------------------------------------------------------\n",
      "const                1.047e+06   1.04e+04    100.730      0.000    1.03e+06    1.07e+06\n",
      "floors               4077.4164   3732.772      1.092      0.275   -3239.092    1.14e+04\n",
      "condition_Fair      -4036.1193   1.95e+04     -0.207      0.836   -4.22e+04    3.41e+04\n",
      "condition_Good       7.024e+04   4108.871     17.094      0.000    6.22e+04    7.83e+04\n",
      "condition_Poor       6.485e+04   4.68e+04      1.387      0.166   -2.68e+04    1.56e+05\n",
      "condition_Very Good  1.715e+05   6524.030     26.294      0.000    1.59e+05    1.84e+05\n",
      "grade_11 Excellent   4.286e+05   1.45e+04     29.481      0.000       4e+05    4.57e+05\n",
      "grade_12 Luxury      1.132e+06   2.75e+04     41.178      0.000    1.08e+06    1.19e+06\n",
      "grade_13 Mansion     2.645e+06   6.96e+04     37.981      0.000    2.51e+06    2.78e+06\n",
      "grade_3 Poor        -9.603e+05    2.5e+05     -3.843      0.000   -1.45e+06    -4.7e+05\n",
      "grade_4 Low         -8.667e+05   4.88e+04    -17.747      0.000   -9.62e+05   -7.71e+05\n",
      "grade_5 Fair        -8.532e+05    1.8e+04    -47.276      0.000   -8.89e+05   -8.18e+05\n",
      "grade_6 Low Average  -7.94e+05   9694.994    -81.895      0.000   -8.13e+05   -7.75e+05\n",
      "grade_7 Average     -6.874e+05   8163.391    -84.210      0.000   -7.03e+05   -6.71e+05\n",
      "grade_8 Good        -5.377e+05   8121.519    -66.201      0.000   -5.54e+05   -5.22e+05\n",
      "grade_9 Better      -3.007e+05   8880.067    -33.862      0.000   -3.18e+05   -2.83e+05\n",
      "==============================================================================\n",
      "Omnibus:                    15975.354   Durbin-Watson:                   1.989\n",
      "Prob(Omnibus):                  0.000   Jarque-Bera (JB):           881568.050\n",
      "Skew:                           3.024   Prob(JB):                         0.00\n",
      "Kurtosis:                      33.710   Cond. No.                         285.\n",
      "==============================================================================\n",
      "\n",
      "Notes:\n",
      "[1] Standard Errors assume that the covariance matrix of the errors is correctly specified.\n"
     ]
    }
   ],
   "source": [
    "print(multi6_results.summary())"
   ]
  },
  {
   "attachments": {},
   "cell_type": "markdown",
   "metadata": {},
   "source": [
    "The additional model built was:\n",
    "\n",
    "price = 262300 + 120700condition_Very Good - 143400condition_Fair - 129800condition_Poor\n",
    "\n",
    "The model is statistically significant overall, with an F-statistic p-value below 0.05\n",
    "\n",
    "The model explains about 7.5% of the variance in price\n",
    "\n",
    "The model coefficients (const, floors, and condition_Fair) are all statistically significant, with t-statistic p-values below 0.05\n",
    "\n",
    "\n",
    "1. The expected housing price for condition_average(reference category) with 0 floors is $262300.\n",
    "\n",
    "2. condition_Very Good has a $120700 higher expected housing price compared to condition_average, holding the number of floors is constant.\n",
    "\n",
    "3. condition_Fair has a $143400 lower expected housing price compared to condition_average, holding the number of floors is constant\n",
    "\n",
    "4. The expected price for poor condition cannot be relied on as it's t-statistic p-value is near 0.05 which indicates that the coefficient may or may not be statistically significant at the conventional significance level of 0.05.But if it was considered significant condition_poor has a $129800 lower expected housing price compared to condition_average, holding the number of floors is constant\n",
    "\n",
    "5. Each additional floor is associated with a $180566.60 increase in the expected housing price, regardless of the condition."
   ]
  },
  {
   "attachments": {},
   "cell_type": "markdown",
   "metadata": {},
   "source": [
    "We can also refer to the other neighbourhood ie. the nearest 15 houses.Here we modeled the price against the living space and the year renovated of the nearest 15 houses."
   ]
  },
  {
   "cell_type": "code",
   "execution_count": 27,
   "metadata": {},
   "outputs": [
    {
     "data": {
      "text/plain": [
       "const          -91092.908491\n",
       "sqm_living15     3376.839433\n",
       "yr_renovated      118.529972\n",
       "dtype: float64"
      ]
     },
     "execution_count": 27,
     "metadata": {},
     "output_type": "execute_result"
    }
   ],
   "source": [
    "df5 = df2[['sqm_living15','yr_renovated']]\n",
    "multi5_model = sm.OLS(y, sm.add_constant(df5))\n",
    "multi5_results = multi5_model.fit()\n",
    "\n",
    "multi5_results.params"
   ]
  },
  {
   "attachments": {},
   "cell_type": "markdown",
   "metadata": {},
   "source": [
    "As we can see we get a negative intercept which makes interpretation difficult.To calculate a more interpretable intercept we'll shift the predictors so that a value of 0 represents the mean rather than representing 0."
   ]
  },
  {
   "cell_type": "code",
   "execution_count": 28,
   "metadata": {},
   "outputs": [
    {
     "data": {
      "text/plain": [
       "const           540296.573506\n",
       "sqm_living15      3376.839433\n",
       "yr_renovated       118.529972\n",
       "dtype: float64"
      ]
     },
     "execution_count": 28,
     "metadata": {},
     "output_type": "execute_result"
    }
   ],
   "source": [
    "df5_centered = df5.copy()\n",
    "for col in df5_centered.columns:\n",
    "    df5_centered[col] = df5_centered[col] - df5_centered[col].mean()\n",
    "\n",
    "centered_model = sm.OLS(y, sm.add_constant(df5_centered))\n",
    "df5_centered_results = centered_model.fit()\n",
    "\n",
    "df5_centered_results.params"
   ]
  },
  {
   "attachments": {},
   "cell_type": "markdown",
   "metadata": {},
   "source": [
    "We now have a more meaningful intercept"
   ]
  },
  {
   "cell_type": "code",
   "execution_count": 29,
   "metadata": {},
   "outputs": [
    {
     "name": "stdout",
     "output_type": "stream",
     "text": [
      "                            OLS Regression Results                            \n",
      "==============================================================================\n",
      "Dep. Variable:                  price   R-squared:                       0.356\n",
      "Model:                            OLS   Adj. R-squared:                  0.356\n",
      "Method:                 Least Squares   F-statistic:                     5976.\n",
      "Date:                Sun, 09 Jul 2023   Prob (F-statistic):               0.00\n",
      "Time:                        17:55:59   Log-Likelihood:            -3.0263e+05\n",
      "No. Observations:               21597   AIC:                         6.053e+05\n",
      "Df Residuals:                   21594   BIC:                         6.053e+05\n",
      "Df Model:                           2                                         \n",
      "Covariance Type:            nonrobust                                         \n",
      "================================================================================\n",
      "                   coef    std err          t      P>|t|      [0.025      0.975]\n",
      "--------------------------------------------------------------------------------\n",
      "const         5.403e+05   2005.698    269.381      0.000    5.36e+05    5.44e+05\n",
      "sqm_living15  3376.8394     31.507    107.177      0.000    3315.083    3438.596\n",
      "yr_renovated   118.5300      5.510     21.513      0.000     107.731     129.329\n",
      "==============================================================================\n",
      "Omnibus:                    19976.976   Durbin-Watson:                   1.985\n",
      "Prob(Omnibus):                  0.000   Jarque-Bera (JB):          1825915.900\n",
      "Skew:                           4.162   Prob(JB):                         0.00\n",
      "Kurtosis:                      47.270   Cond. No.                         364.\n",
      "==============================================================================\n",
      "\n",
      "Notes:\n",
      "[1] Standard Errors assume that the covariance matrix of the errors is correctly specified.\n"
     ]
    }
   ],
   "source": [
    "print(df5_centered_results.summary())"
   ]
  },
  {
   "attachments": {},
   "cell_type": "markdown",
   "metadata": {},
   "source": [
    "The model built was:\n",
    "\n",
    "price = 540300 + 3376.84sqm_living15 + 118.53yr_renovated\n",
    "\n",
    "The model is statistically significant overall, with an F-statistic p-value below 0.05\n",
    "\n",
    "The model explains about 35.6% of the variance in price\n",
    "\n",
    "The model coefficients (const, sqm_living15, and yr_renovated) are all statistically significant, with t-statistic p-values below 0.05\n",
    "\n",
    "1. For the average living area of the nearest 15 neighbours renovated in average year,we would expect it to cost $540296.57.\n",
    "\n",
    "2. For an increase of 1 square meter relative to the mean of sqm_living15(square meters of the nearest 15 houses), the price increases by $3376.\n",
    "\n",
    "3. For an increase of 1 year relative to the year of renovation mean, the price increases by $118.53."
   ]
  },
  {
   "cell_type": "code",
   "execution_count": 30,
   "metadata": {},
   "outputs": [
    {
     "name": "stdout",
     "output_type": "stream",
     "text": [
      "eval_env: 1\n",
      "eval_env: 1\n"
     ]
    },
    {
     "data": {
      "image/png": "[encoded data removed]",
      "text/plain": [
       "<Figure size 1500x500 with 2 Axes>"
      ]
     },
     "metadata": {},
     "output_type": "display_data"
    }
   ],
   "source": [
    "fig = plt.figure(figsize=(15,5))\n",
    "sm.graphics.plot_partregress_grid(\n",
    "    df5_centered_results,\n",
    "    exog_idx=list(df5_centered.columns.values),\n",
    "    grid=(1,2),\n",
    "    fig=fig)\n",
    "plt.show()"
   ]
  },
  {
   "attachments": {},
   "cell_type": "markdown",
   "metadata": {},
   "source": [
    "#### Recommendations"
   ]
  },
  {
   "attachments": {},
   "cell_type": "markdown",
   "metadata": {},
   "source": [
    "1. **Living Area (sqm_above)**: Increasing the living area of the home by one square meter is associated with an estimated increase in price of $2,934.7. For every additional square meter increase in the living area of a house relative to the mean of the living area of the nearest 15 houses, the price is expected to increase by $3,376.  To maximize the estimated value of the property, consider expanding the above ground living space through additions or remodeling.\n",
    "\n",
    "2. **Basement Area (sqm_basement)**: Increasing the basement area of the home by one square meter is associated with an estimated increase in price of $2,799.72. If your property has a basement or potential for one, renovating or expanding it could positively impact the estimated value of the home.\n",
    "\n",
    "3. **Number of Floors (floors)**: Each additional floor in the house is associated with an estimated increase in price of $55,510. If feasible and within zoning regulations, consider adding additional floors to the property to potentially increase its value.\n",
    "\n",
    "4. **Year of Renovation (yr_renovated)**: The year of renovation also affects the price of a house. For every year since the mean year of renovation of the nearest 15 houses, the price is expected to increase by $118.53. This implies that more recently renovated houses tend to have higher prices. If you are considering renovating your house, it's worth keeping in mind that a more recent renovation might contribute to an increased selling price.\n",
    "\n",
    "5. **Baseline Price**: The intercept term of 262,300 represents the baseline price or estimated value of a property in an average condition (reference category). Its recommended taht one use this baseline price as a starting point when determining the price of a property before considering its condition.\n",
    "\n",
    "6. **Average living area of nearest 15 renovated neighbors**: The average living area of the nearest 15 renovated neighbors has an impact on the price. If the living area of a house is similar to the average living area of its 15 nearest renovated neighbors, then the expected price would be $540,296.57. Therefore, if you are looking to sell or buy a house, it would be beneficial to consider the living area of neighboring houses that have undergone renovations.\n",
    "\n"
   ]
  },
  {
   "attachments": {},
   "cell_type": "markdown",
   "metadata": {},
   "source": [
    "### Limitations"
   ]
  },
  {
   "attachments": {},
   "cell_type": "markdown",
   "metadata": {},
   "source": [
    "1.  Our model used data that has outliers which may have introduced skewness or non-normality.Outliers distort relationships, bias parameter estimates, reduce model performance, and violate modeling assumptions. Its recommended that one takes precaution while handling outliers because outliers may contain valuable information or represent important phenomena in the data. Removing outliers without a careful understanding of their nature and context can lead to the loss of valuable insights.\n",
    "\n",
    "2. From our model the year of construction has a negative impact on the estimated price, with an estimated decrease of $3,154.97 per year. This is not feasible as it suggest an increase in year built impacts the price negatively where as the opposite is true. Houses built recently tend to be more expensive that old houses.\n"
   ]
  },
  {
   "cell_type": "markdown",
   "metadata": {},
   "source": []
  }
 ],
 "metadata": {
  "kernelspec": {
   "display_name": "base",
   "language": "python",
   "name": "python3"
  },
  "language_info": {
   "codemirror_mode": {
    "name": "ipython",
    "version": 3
   },
   "file_extension": ".py",
   "mimetype": "text/x-python",
   "name": "python",
   "nbconvert_exporter": "python",
   "pygments_lexer": "ipython3",
   "version": "3.10.9"
  },
  "orig_nbformat": 4
 },
 "nbformat": 4,
 "nbformat_minor": 2
}
